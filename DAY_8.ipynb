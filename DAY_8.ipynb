{
 "cells": [
  {
   "cell_type": "markdown",
   "id": "23a3ea4c",
   "metadata": {},
   "source": [
    "# Exercises: Day 8"
   ]
  },
  {
   "cell_type": "code",
   "execution_count": 1,
   "id": "7f5035b2",
   "metadata": {},
   "outputs": [],
   "source": [
    "# no 1\n",
    "dog = {}"
   ]
  },
  {
   "cell_type": "code",
   "execution_count": 3,
   "id": "115fb319",
   "metadata": {},
   "outputs": [
    {
     "data": {
      "text/plain": [
       "{'name': 'bingo'}"
      ]
     },
     "execution_count": 3,
     "metadata": {},
     "output_type": "execute_result"
    }
   ],
   "source": [
    "# no 2\n",
    "dog[\"name\"] = \"bingo\"\n",
    "dog"
   ]
  },
  {
   "cell_type": "code",
   "execution_count": 4,
   "id": "bba76b9d",
   "metadata": {},
   "outputs": [
    {
     "data": {
      "text/plain": [
       "{'name': 'bingo', 'color': 'red'}"
      ]
     },
     "execution_count": 4,
     "metadata": {},
     "output_type": "execute_result"
    }
   ],
   "source": [
    "dog[\"color\"] = \"red\"\n",
    "dog"
   ]
  },
  {
   "cell_type": "code",
   "execution_count": 5,
   "id": "88bfa6b4",
   "metadata": {},
   "outputs": [
    {
     "data": {
      "text/plain": [
       "{'name': 'bingo', 'color': 'red', 'breed': 'normal'}"
      ]
     },
     "execution_count": 5,
     "metadata": {},
     "output_type": "execute_result"
    }
   ],
   "source": [
    "dog[\"breed\"] = \"normal\"\n",
    "dog"
   ]
  },
  {
   "cell_type": "code",
   "execution_count": 6,
   "id": "d6198987",
   "metadata": {},
   "outputs": [
    {
     "data": {
      "text/plain": [
       "{'name': 'bingo', 'color': 'red', 'breed': 'normal', 'leg': 'short'}"
      ]
     },
     "execution_count": 6,
     "metadata": {},
     "output_type": "execute_result"
    }
   ],
   "source": [
    "dog[\"leg\"] = \"short\"\n",
    "dog"
   ]
  },
  {
   "cell_type": "code",
   "execution_count": 7,
   "id": "3f46a12d",
   "metadata": {},
   "outputs": [
    {
     "data": {
      "text/plain": [
       "{'name': 'bingo', 'color': 'red', 'breed': 'normal', 'leg': 'short', 'age': 2}"
      ]
     },
     "execution_count": 7,
     "metadata": {},
     "output_type": "execute_result"
    }
   ],
   "source": [
    "dog[\"age\"] = 2\n",
    "dog"
   ]
  },
  {
   "cell_type": "code",
   "execution_count": 8,
   "id": "6884242c",
   "metadata": {},
   "outputs": [
    {
     "name": "stdout",
     "output_type": "stream",
     "text": [
      "{'name': 'bingo', 'color': 'red', 'breed': 'normal', 'leg': 'short', 'age': 2}\n"
     ]
    }
   ],
   "source": [
    "print(dog)"
   ]
  },
  {
   "cell_type": "code",
   "execution_count": 2,
   "id": "b01d2bb6",
   "metadata": {},
   "outputs": [
    {
     "data": {
      "text/plain": [
       "{'first_name': 'mussa',\n",
       " 'last_name': 'mohammed',\n",
       " 'gender': 'male',\n",
       " 'age': 18,\n",
       " 'marital status': 'married',\n",
       " 'skill': 'engineer',\n",
       " 'country': 'Nigeria',\n",
       " 'city': 'bauchi',\n",
       " 'address': 'fadama mada'}"
      ]
     },
     "execution_count": 2,
     "metadata": {},
     "output_type": "execute_result"
    }
   ],
   "source": [
    "#first_name, last_name, gender, age, marital status, skills, country, city and address as keys for the dictionary\n",
    "# no 3\n",
    "\n",
    "student = {\n",
    "    'first_name': 'mussa',\n",
    "    'last_name': 'mohammed',\n",
    "    'gender': 'male',\n",
    "    'age': 18,\n",
    "    'marital status': 'married',\n",
    "    'skill': 'engineer',\n",
    "    'country': 'Nigeria',\n",
    "    'city': 'bauchi',\n",
    "    'address': 'fadama mada'\n",
    "}\n",
    "student"
   ]
  },
  {
   "cell_type": "code",
   "execution_count": 3,
   "id": "bb7780f0",
   "metadata": {},
   "outputs": [
    {
     "data": {
      "text/plain": [
       "9"
      ]
     },
     "execution_count": 3,
     "metadata": {},
     "output_type": "execute_result"
    }
   ],
   "source": [
    "# no 4\n",
    "len(student)"
   ]
  },
  {
   "cell_type": "code",
   "execution_count": 4,
   "id": "6b9163e5",
   "metadata": {},
   "outputs": [
    {
     "data": {
      "text/plain": [
       "int"
      ]
     },
     "execution_count": 4,
     "metadata": {},
     "output_type": "execute_result"
    }
   ],
   "source": [
    "# no 5\n",
    "type(student['age'])"
   ]
  },
  {
   "cell_type": "code",
   "execution_count": 5,
   "id": "d8477bf0",
   "metadata": {},
   "outputs": [
    {
     "data": {
      "text/plain": [
       "{'first_name': 'mussa',\n",
       " 'last_name': 'mohammed',\n",
       " 'gender': 'male',\n",
       " 'age': 18,\n",
       " 'marital status': 'married',\n",
       " 'skill': ['engineer', 'programmer', 'system engineer'],\n",
       " 'country': 'Nigeria',\n",
       " 'city': 'bauchi',\n",
       " 'address': 'fadama mada'}"
      ]
     },
     "execution_count": 5,
     "metadata": {},
     "output_type": "execute_result"
    }
   ],
   "source": [
    "# no 6\n",
    "student['skill'] = ['engineer','programmer', 'system engineer']\n",
    "student"
   ]
  },
  {
   "cell_type": "code",
   "execution_count": 6,
   "id": "d0cdf56c",
   "metadata": {},
   "outputs": [
    {
     "data": {
      "text/plain": [
       "['first_name',\n",
       " 'last_name',\n",
       " 'gender',\n",
       " 'age',\n",
       " 'marital status',\n",
       " 'skill',\n",
       " 'country',\n",
       " 'city',\n",
       " 'address']"
      ]
     },
     "execution_count": 6,
     "metadata": {},
     "output_type": "execute_result"
    }
   ],
   "source": [
    "# no 7\n",
    "list(student.keys())"
   ]
  },
  {
   "cell_type": "code",
   "execution_count": 7,
   "id": "326d4a34",
   "metadata": {},
   "outputs": [
    {
     "data": {
      "text/plain": [
       "['mussa',\n",
       " 'mohammed',\n",
       " 'male',\n",
       " 18,\n",
       " 'married',\n",
       " ['engineer', 'programmer', 'system engineer'],\n",
       " 'Nigeria',\n",
       " 'bauchi',\n",
       " 'fadama mada']"
      ]
     },
     "execution_count": 7,
     "metadata": {},
     "output_type": "execute_result"
    }
   ],
   "source": [
    "# no 8\n",
    "list(student.values())"
   ]
  },
  {
   "cell_type": "code",
   "execution_count": 8,
   "id": "813e91e4",
   "metadata": {},
   "outputs": [
    {
     "data": {
      "text/plain": [
       "(('first_name', 'mussa'),\n",
       " ('last_name', 'mohammed'),\n",
       " ('gender', 'male'),\n",
       " ('age', 18),\n",
       " ('marital status', 'married'),\n",
       " ('skill', ['engineer', 'programmer', 'system engineer']),\n",
       " ('country', 'Nigeria'),\n",
       " ('city', 'bauchi'),\n",
       " ('address', 'fadama mada'))"
      ]
     },
     "execution_count": 8,
     "metadata": {},
     "output_type": "execute_result"
    }
   ],
   "source": [
    "# no 9\n",
    "= tuple(student.items())\n",
    "my_tuple"
   ]
  },
  {
   "cell_type": "code",
   "execution_count": 9,
   "id": "1d62f8dd",
   "metadata": {},
   "outputs": [],
   "source": [
    "# no 10\n",
    "del(student['city'])"
   ]
  },
  {
   "cell_type": "code",
   "execution_count": 10,
   "id": "e99d5938",
   "metadata": {},
   "outputs": [
    {
     "data": {
      "text/plain": [
       "{'first_name': 'mussa',\n",
       " 'last_name': 'mohammed',\n",
       " 'gender': 'male',\n",
       " 'age': 18,\n",
       " 'marital status': 'married',\n",
       " 'skill': ['engineer', 'programmer', 'system engineer'],\n",
       " 'country': 'Nigeria',\n",
       " 'address': 'fadama mada'}"
      ]
     },
     "execution_count": 10,
     "metadata": {},
     "output_type": "execute_result"
    }
   ],
   "source": [
    "student"
   ]
  },
  {
   "cell_type": "code",
   "execution_count": 11,
   "id": "067b4517",
   "metadata": {},
   "outputs": [],
   "source": [
    "# no 11\n",
    "del(student)"
   ]
  },
  {
   "cell_type": "code",
   "execution_count": 12,
   "id": "11489367",
   "metadata": {},
   "outputs": [
    {
     "ename": "NameError",
     "evalue": "name 'student' is not defined",
     "output_type": "error",
     "traceback": [
      "\u001b[1;31m---------------------------------------------------------------------------\u001b[0m",
      "\u001b[1;31mNameError\u001b[0m                                 Traceback (most recent call last)",
      "Cell \u001b[1;32mIn[12], line 1\u001b[0m\n\u001b[1;32m----> 1\u001b[0m \u001b[43mstudent\u001b[49m\n",
      "\u001b[1;31mNameError\u001b[0m: name 'student' is not defined"
     ]
    }
   ],
   "source": [
    "student"
   ]
  },
  {
   "cell_type": "code",
   "execution_count": null,
   "id": "89465884",
   "metadata": {},
   "outputs": [],
   "source": []
  }
 ],
 "metadata": {
  "kernelspec": {
   "display_name": "Python 3 (ipykernel)",
   "language": "python",
   "name": "python3"
  },
  "language_info": {
   "codemirror_mode": {
    "name": "ipython",
    "version": 3
   },
   "file_extension": ".py",
   "mimetype": "text/x-python",
   "name": "python",
   "nbconvert_exporter": "python",
   "pygments_lexer": "ipython3",
   "version": "3.11.1"
  }
 },
 "nbformat": 4,
 "nbformat_minor": 5
}

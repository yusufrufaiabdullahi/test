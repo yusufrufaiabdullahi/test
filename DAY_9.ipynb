{
 "cells": [
  {
   "cell_type": "markdown",
   "id": "0393f6e7",
   "metadata": {},
   "source": [
    "# DAY 9"
   ]
  },
  {
   "cell_type": "markdown",
   "id": "5e46122c",
   "metadata": {},
   "source": [
    "# Exercises: Level 1\n",
    "\n",
    "## NO 1\n",
    "Get user input using input(“Enter your age: ”). If user is 18 or older, give feedback: You are old enough to drive. If below 18 give feedback to wait for the missing amount of years. Output:\n",
    "Enter your age: 30\n",
    "You are old enough to learn to drive.\n",
    "Output:\n",
    "Enter your age: 15\n",
    "You need 3 more years to learn to drive."
   ]
  },
  {
   "cell_type": "code",
   "execution_count": 4,
   "id": "9cb3fc9a",
   "metadata": {},
   "outputs": [
    {
     "name": "stdout",
     "output_type": "stream",
     "text": [
      "enter your age: 45\n",
      "You are old enough to drive\n"
     ]
    }
   ],
   "source": [
    "drive_age = 18\n",
    "age = int(input(\"enter your age: \"))\n",
    "if age >= drive_age:\n",
    "    print('You are old enough to drive')\n",
    "else:\n",
    "    small_age = drive_age - age\n",
    "    print('you need' , small_age, 'more years to learn to drive')\n"
   ]
  },
  {
   "cell_type": "code",
   "execution_count": 11,
   "id": "949f512b",
   "metadata": {},
   "outputs": [
    {
     "name": "stdout",
     "output_type": "stream",
     "text": [
      "my age is 20\n",
      "enter you age: 44\n",
      "You are  24  years older than me\n"
     ]
    }
   ],
   "source": [
    "# no 2\n",
    "print('my age is 20')\n",
    "age = 20\n",
    "your_age = int(input('enter you age: '))\n",
    "if age > your_age:\n",
    "    new_age = age - your_age\n",
    "    print('am ', new_age, ' years older than me')\n",
    "else:\n",
    "    new_age = your_age - age\n",
    "    print('You are ',new_age, ' years older than me')"
   ]
  },
  {
   "cell_type": "code",
   "execution_count": 12,
   "id": "05456ac7",
   "metadata": {},
   "outputs": [
    {
     "name": "stdout",
     "output_type": "stream",
     "text": [
      "enter a number: 3\n",
      "enter a number: 2\n",
      "3  is greater than  2\n"
     ]
    }
   ],
   "source": [
    "# no 3\n",
    "\n",
    "a = int(input('enter a number: '))\n",
    "b = int(input('enter a number: '))\n",
    "\n",
    "if a > b:\n",
    "    print(a, ' is greater than ', b)\n",
    "elif a < b:\n",
    "    print(a, ' is less than ', b)\n",
    "else:\n",
    "    print(a, \"is equal to \", b)\n"
   ]
  },
  {
   "cell_type": "code",
   "execution_count": 16,
   "id": "533d610b",
   "metadata": {},
   "outputs": [
    {
     "name": "stdout",
     "output_type": "stream",
     "text": [
      "enter your score: 100\n",
      "A\n"
     ]
    }
   ],
   "source": [
    "# no 4\n",
    "\n",
    "score = int(input(\"enter your score: \"))\n",
    "\n",
    "if score >= 80 or score ==100:\n",
    "    print('A')\n",
    "    \n",
    "elif score >= 70 or score <=89:\n",
    "    print('B')\n",
    "\n",
    "elif score >= 60 or score <=69:\n",
    "    print('C')\n",
    "    \n",
    "elif score >= 50 or score <=59:\n",
    "    print('D')\n",
    "    \n",
    "elif score >= 0 or score <=49:\n",
    "    print('F')\n",
    "\n",
    "else:\n",
    "    print('invalid score')\n",
    "    \n"
   ]
  },
  {
   "cell_type": "code",
   "execution_count": 18,
   "id": "178933c3",
   "metadata": {},
   "outputs": [
    {
     "name": "stdout",
     "output_type": "stream",
     "text": [
      "enter season: February\n",
      "the season is Autumn.\n"
     ]
    }
   ],
   "source": [
    "# no 5\n",
    "\n",
    "month = input('enter season: ').lower()\n",
    "if month == 'September'.lower() or 'October'.lower() or 'November'.lower():\n",
    "    print('the season is Autumn.')\n",
    "    \n",
    "elif month == 'December'.lower() or 'January'.lower() or 'February'.lower():\n",
    "    print('the season is Winter. ')\n",
    "    \n",
    "elif month == 'March'.lower() or 'April'.lower() or 'May'.lower():\n",
    "    print('the season is Spring')\n",
    "    \n",
    "elif month == 'June'.lower() or 'July'.lower() or 'August'.lower():\n",
    "    print(' the season is Summer')\n",
    "    \n",
    "else:\n",
    "    print('invalid month')\n"
   ]
  },
  {
   "cell_type": "code",
   "execution_count": 19,
   "id": "a991bda9",
   "metadata": {},
   "outputs": [
    {
     "name": "stdout",
     "output_type": "stream",
     "text": [
      "enter a fruit: graps\n",
      "['banana', 'orange', 'mango', 'lemon', 'graps']\n"
     ]
    }
   ],
   "source": [
    "# no \n",
    "\n",
    "new_fruits = input('enter a fruit: ')\n",
    "\n",
    "fruits = ['banana', 'orange', 'mango', 'lemon']\n",
    "\n",
    "if new_fruits in fruits:\n",
    "    print('That fruit already exist in the list')\n",
    "    print(fruits)\n",
    "else:\n",
    "    fruits.append(new_fruits)\n",
    "    print(fruits)\n",
    "    \n",
    "    "
   ]
  },
  {
   "cell_type": "markdown",
   "id": "7ac58aa2",
   "metadata": {},
   "source": [
    "# Exercises: Level 3"
   ]
  },
  {
   "cell_type": "code",
   "execution_count": 20,
   "id": "7640d9a9",
   "metadata": {},
   "outputs": [],
   "source": [
    "  person={\n",
    "    'first_name': 'Asabeneh',\n",
    "    'last_name': 'Yetayeh',\n",
    "    'age': 250,\n",
    "    'country': 'Finland',\n",
    "    'is_marred': True,\n",
    "    'skills': ['JavaScript', 'React', 'Node', 'MongoDB', 'Python'],\n",
    "    'address': {\n",
    "        'street': 'Space street',\n",
    "        'zipcode': '02210'\n",
    "    }\n",
    "    }\n",
    "    "
   ]
  },
  {
   "cell_type": "code",
   "execution_count": null,
   "id": "b0139902",
   "metadata": {},
   "outputs": [],
   "source": [
    " * Check if the person dictionary has skills key, if so print out the middle skill in the skills list.\n",
    " * Check if the person dictionary has skills key, if so check if the person has 'Python' skill and print out the result.\n",
    " * If a person skills has only JavaScript and React, print('He is a front end developer'), if the person skills has Node, Python, MongoDB, print('He is a backend developer'), if the person skills has React, Node and MongoDB, Print('He is a fullstack developer'), else print('unknown title') - for more accurate results more conditions can be nested!\n",
    " * If the person is married and if he lives in Finland, print the information in the following format:"
   ]
  }
 ],
 "metadata": {
  "kernelspec": {
   "display_name": "Python 3 (ipykernel)",
   "language": "python",
   "name": "python3"
  },
  "language_info": {
   "codemirror_mode": {
    "name": "ipython",
    "version": 3
   },
   "file_extension": ".py",
   "mimetype": "text/x-python",
   "name": "python",
   "nbconvert_exporter": "python",
   "pygments_lexer": "ipython3",
   "version": "3.11.1"
  }
 },
 "nbformat": 4,
 "nbformat_minor": 5
}

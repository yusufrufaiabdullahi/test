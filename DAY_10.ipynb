{
 "cells": [
  {
   "cell_type": "markdown",
   "id": "cc9d5b73",
   "metadata": {},
   "source": [
    "# Exercises: Day 10\n",
    "\n",
    "# Exercises: Level "
   ]
  },
  {
   "cell_type": "code",
   "execution_count": 4,
   "id": "130e8686",
   "metadata": {},
   "outputs": [
    {
     "name": "stdout",
     "output_type": "stream",
     "text": [
      "0\n",
      "1\n",
      "2\n",
      "3\n",
      "4\n",
      "5\n",
      "6\n",
      "7\n",
      "8\n",
      "9\n",
      "10\n"
     ]
    }
   ],
   "source": [
    "# no 1\n",
    "# for loop\n",
    "\n",
    "for i in range(11):\n",
    "    print(i)\n",
    "\n",
    "\n"
   ]
  },
  {
   "cell_type": "code",
   "execution_count": 3,
   "id": "32765bc8",
   "metadata": {},
   "outputs": [
    {
     "name": "stdout",
     "output_type": "stream",
     "text": [
      "0\n",
      "1\n",
      "2\n",
      "3\n",
      "4\n",
      "5\n",
      "6\n",
      "7\n",
      "8\n",
      "9\n",
      "10\n"
     ]
    }
   ],
   "source": [
    "\n",
    "# while loop\n",
    "x = 0\n",
    "while x <= 10:\n",
    "    print(x)\n",
    "    x += 1"
   ]
  },
  {
   "cell_type": "code",
   "execution_count": 6,
   "id": "12bbf23b",
   "metadata": {},
   "outputs": [],
   "source": [
    "# no 2\n",
    "\n",
    "for i in range(10, 0):\n",
    "    print(i)\n"
   ]
  },
  {
   "cell_type": "code",
   "execution_count": 2,
   "id": "e248cced",
   "metadata": {},
   "outputs": [],
   "source": [
    "y = 10\n",
    "\n",
    "while 10 <= 0:\n",
    "    print(i)\n",
    "    y -= 1"
   ]
  },
  {
   "cell_type": "code",
   "execution_count": 3,
   "id": "49cba0a4",
   "metadata": {},
   "outputs": [
    {
     "name": "stdout",
     "output_type": "stream",
     "text": [
      "\n",
      "#\n",
      "##\n",
      "###\n",
      "####\n",
      "#####\n",
      "######\n",
      "#######\n",
      "########\n",
      "#########\n"
     ]
    }
   ],
   "source": [
    "for i in range(10):\n",
    "    print('#' * i)"
   ]
  },
  {
   "cell_type": "code",
   "execution_count": 7,
   "id": "cf998faf",
   "metadata": {},
   "outputs": [
    {
     "name": "stdout",
     "output_type": "stream",
     "text": [
      " # # # # # # # #\n",
      " # # # # # # # #\n",
      " # # # # # # # #\n",
      " # # # # # # # #\n",
      " # # # # # # # #\n",
      " # # # # # # # #\n",
      " # # # # # # # #\n",
      " # # # # # # # #\n"
     ]
    }
   ],
   "source": [
    "# no 3\n",
    "lst = [8, 8, 8, 8, 8, 8, 8, 8]\n",
    "for x in lst:\n",
    "    print(x * ' #')"
   ]
  },
  {
   "cell_type": "code",
   "execution_count": 8,
   "id": "445f4786",
   "metadata": {},
   "outputs": [
    {
     "name": "stdout",
     "output_type": "stream",
     "text": [
      "Python\n",
      "Numpy\n",
      "Pandas\n",
      "Django\n",
      "Flask\n"
     ]
    }
   ],
   "source": [
    "# no 6\n",
    "lst = ['Python', 'Numpy','Pandas','Django', 'Flask']\n",
    "for i in lst:\n",
    "    print(i)"
   ]
  },
  {
   "cell_type": "code",
   "execution_count": 10,
   "id": "86c74f29",
   "metadata": {},
   "outputs": [
    {
     "name": "stdout",
     "output_type": "stream",
     "text": [
      "0\n",
      "2\n",
      "4\n",
      "6\n",
      "8\n",
      "10\n",
      "12\n",
      "14\n",
      "16\n",
      "18\n",
      "20\n",
      "22\n",
      "24\n",
      "26\n",
      "28\n",
      "30\n",
      "32\n",
      "34\n",
      "36\n",
      "38\n",
      "40\n",
      "42\n",
      "44\n",
      "46\n",
      "48\n",
      "50\n",
      "52\n",
      "54\n",
      "56\n",
      "58\n",
      "60\n",
      "62\n",
      "64\n",
      "66\n",
      "68\n",
      "70\n",
      "72\n",
      "74\n",
      "76\n",
      "78\n",
      "80\n",
      "82\n",
      "84\n",
      "86\n",
      "88\n",
      "90\n",
      "92\n",
      "94\n",
      "96\n",
      "98\n"
     ]
    }
   ],
   "source": [
    "# no 7\n",
    "\n",
    "for i in range(100):\n",
    "    if i % 2 == 0:\n",
    "        print(i)\n"
   ]
  },
  {
   "cell_type": "code",
   "execution_count": 13,
   "id": "5c896c0c",
   "metadata": {},
   "outputs": [
    {
     "name": "stdout",
     "output_type": "stream",
     "text": [
      "1\n",
      "3\n",
      "5\n",
      "7\n",
      "9\n",
      "11\n",
      "13\n",
      "15\n",
      "17\n",
      "19\n",
      "21\n",
      "23\n",
      "25\n",
      "27\n",
      "29\n",
      "31\n",
      "33\n",
      "35\n",
      "37\n",
      "39\n",
      "41\n",
      "43\n",
      "45\n",
      "47\n",
      "49\n",
      "51\n",
      "53\n",
      "55\n",
      "57\n",
      "59\n",
      "61\n",
      "63\n",
      "65\n",
      "67\n",
      "69\n",
      "71\n",
      "73\n",
      "75\n",
      "77\n",
      "79\n",
      "81\n",
      "83\n",
      "85\n",
      "87\n",
      "89\n",
      "91\n",
      "93\n",
      "95\n",
      "97\n",
      "99\n"
     ]
    }
   ],
   "source": [
    "# no 7\n",
    "\n",
    "for i in range(100):\n",
    "    if i % 2 == 1:\n",
    "        print(i)\n"
   ]
  },
  {
   "cell_type": "markdown",
   "id": "734197b1",
   "metadata": {},
   "source": [
    "# Exercises: Level 2"
   ]
  },
  {
   "cell_type": "code",
   "execution_count": 16,
   "id": "7e3ac724",
   "metadata": {},
   "outputs": [
    {
     "name": "stdout",
     "output_type": "stream",
     "text": [
      "total sum is  5050\n"
     ]
    }
   ],
   "source": [
    "# no 1\n",
    "total = 0\n",
    "\n",
    "for i in range(101):\n",
    "    total += i\n",
    "    \n",
    "print('The sum of all numbers is ', total)"
   ]
  },
  {
   "cell_type": "code",
   "execution_count": 19,
   "id": "0414f4a8",
   "metadata": {},
   "outputs": [
    {
     "name": "stdout",
     "output_type": "stream",
     "text": [
      "The sum of all evens is  2550\n"
     ]
    }
   ],
   "source": [
    "# no 2\n",
    "even_total = 0\n",
    "for i in range(101):\n",
    "    if i % 2 ==0:\n",
    "        even_total += i\n",
    "        \n",
    "print('The sum of all evens is ', even_total)"
   ]
  },
  {
   "cell_type": "code",
   "execution_count": 21,
   "id": "12a5ad65",
   "metadata": {},
   "outputs": [
    {
     "name": "stdout",
     "output_type": "stream",
     "text": [
      "The sum of all evens is  2500\n"
     ]
    }
   ],
   "source": [
    "odd_total = 0\n",
    "for i in range(101):\n",
    "    if i % 2 ==1:\n",
    "        odd_total += i\n",
    "        \n",
    "print('The sum of all evens is ', odd_total)"
   ]
  },
  {
   "cell_type": "code",
   "execution_count": 22,
   "id": "5c72b745",
   "metadata": {},
   "outputs": [
    {
     "name": "stdout",
     "output_type": "stream",
     "text": [
      "['lemon', 'mango', 'orange', 'banana']\n"
     ]
    }
   ],
   "source": [
    "# no 3\n",
    "my_list=['banana', 'orange', 'mango', 'lemon']\n",
    "new_list=[]\n",
    "for i in range(len(my_list)):\n",
    "    new_list.insert(i,my_list[-1])\n",
    "    my_list.pop(-1)\n",
    "\n",
    "print(new_list)"
   ]
  },
  {
   "cell_type": "code",
   "execution_count": null,
   "id": "23d0d15a",
   "metadata": {},
   "outputs": [],
   "source": []
  }
 ],
 "metadata": {
  "kernelspec": {
   "display_name": "Python 3 (ipykernel)",
   "language": "python",
   "name": "python3"
  },
  "language_info": {
   "codemirror_mode": {
    "name": "ipython",
    "version": 3
   },
   "file_extension": ".py",
   "mimetype": "text/x-python",
   "name": "python",
   "nbconvert_exporter": "python",
   "pygments_lexer": "ipython3",
   "version": "3.11.1"
  }
 },
 "nbformat": 4,
 "nbformat_minor": 5
}
